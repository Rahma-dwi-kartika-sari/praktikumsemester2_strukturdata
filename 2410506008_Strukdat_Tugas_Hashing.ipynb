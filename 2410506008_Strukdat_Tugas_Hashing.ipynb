{
  "nbformat": 4,
  "nbformat_minor": 0,
  "metadata": {
    "colab": {
      "provenance": []
    },
    "kernelspec": {
      "name": "python3",
      "display_name": "Python 3"
    },
    "language_info": {
      "name": "python"
    }
  },
  "cells": [
    {
      "cell_type": "markdown",
      "source": [
        "# **Tugas 1**"
      ],
      "metadata": {
        "id": "XCH19__l3bjN"
      }
    },
    {
      "cell_type": "code",
      "execution_count": 3,
      "metadata": {
        "colab": {
          "base_uri": "https://localhost:8080/"
        },
        "id": "q22UVAyLz1HZ",
        "outputId": "65296391-cd2f-4b8e-c470-61c299a9c8cb"
      },
      "outputs": [
        {
          "output_type": "stream",
          "name": "stdout",
          "text": [
            "Index | Key | Value\n",
            "---------------------\n",
            "  0   |  D  |  40  \n",
            "  1   |  C  |  30  \n",
            "  2   |  E  |  50  \n",
            "  3   |  B  |  20  \n",
            "  4   |  A  |  10  \n"
          ]
        }
      ],
      "source": [
        "class LinearProbingHashTable:\n",
        "    def __init__(self, size):\n",
        "        self.size = size\n",
        "        self.table = [None] * size\n",
        "\n",
        "    def hash_function(self, key):\n",
        "        return hash(key) % self.size\n",
        "\n",
        "    def insert(self, key, value):\n",
        "        index = self.hash_function(key)\n",
        "        original_index = index\n",
        "\n",
        "        while self.table[index] is not None:\n",
        "            if self.table[index][0] == key:\n",
        "                break\n",
        "            index = (index + 1) % self.size\n",
        "            if index == original_index:\n",
        "                raise Exception(\"Hash table penuh\")\n",
        "\n",
        "        self.table[index] = (key, value)\n",
        "\n",
        "    def search(self, key):\n",
        "        index = self.hash_function(key)\n",
        "        original_index = index\n",
        "\n",
        "        while self.table[index] is not None:\n",
        "            if self.table[index][0] == key:\n",
        "                return self.table[index][1]\n",
        "            index = (index + 1) % self.size\n",
        "            if index == original_index:\n",
        "                break\n",
        "        return None\n",
        "\n",
        "# Buat objek dan masukkan data\n",
        "ht = LinearProbingHashTable(5)\n",
        "ht.insert(\"A\", 10)\n",
        "ht.insert(\"B\", 20)\n",
        "ht.insert(\"C\", 30)\n",
        "ht.insert(\"D\", 40)\n",
        "ht.insert(\"E\", 50)\n",
        "\n",
        "print(\"Index | Key | Value\")\n",
        "print(\"---------------------\")\n",
        "for i, item in enumerate(ht.table):\n",
        "    if item is not None:\n",
        "        print(f\"{i:^5} | {item[0]:^3} | {item[1]:^5}\")\n",
        "    else:\n",
        "        print(f\"{i:^5} | {'-':^3} | {'-':^5}\")"
      ]
    },
    {
      "cell_type": "markdown",
      "source": [
        "# **Tugas 2**"
      ],
      "metadata": {
        "id": "JMt_D0mx4RCI"
      }
    },
    {
      "cell_type": "code",
      "source": [
        "class ChainingHashTable:\n",
        "    def __init__(self, size):\n",
        "        self.size = size\n",
        "        self.table = [[] for _ in range(size)]\n",
        "\n",
        "    def hash_function(self, key):\n",
        "        return hash(key) % self.size\n",
        "\n",
        "    def insert(self, key, value):\n",
        "        index = self.hash_function(key)\n",
        "        for i, (k, v) in enumerate(self.table[index]):\n",
        "            if k == key:\n",
        "                self.table[index][i] = (key, value)\n",
        "                return\n",
        "        self.table[index].append((key, value))\n",
        "\n",
        "    def search(self, key):\n",
        "        index = self.hash_function(key)\n",
        "        for k, v in self.table[index]:\n",
        "            if k == key:\n",
        "                return v\n",
        "        return None\n",
        "\n",
        "ht = ChainingHashTable(3)\n",
        "ht.insert(\"apel\", 100)\n",
        "ht.insert(\"melon\", 200)\n",
        "ht.insert(\"lemon\", 300)\n",
        "ht.insert(\"pisang\", 400)\n",
        "\n",
        "print(\"Index | Data\")\n",
        "print(\"----------------------------\")\n",
        "for i, slot in enumerate(ht.table):\n",
        "    if slot:\n",
        "        items = \", \".join(f\"({k}, {v})\" for k, v in slot)\n",
        "        print(f\"{i:^5} | {items}\")\n",
        "    else:\n",
        "        print(f\"{i:^5} | (kosong)\")"
      ],
      "metadata": {
        "colab": {
          "base_uri": "https://localhost:8080/"
        },
        "id": "6qIGtwM94TKQ",
        "outputId": "ea98793a-bef2-4c1c-b8ab-4ea9a520e11a"
      },
      "execution_count": 9,
      "outputs": [
        {
          "output_type": "stream",
          "name": "stdout",
          "text": [
            "Index | Data\n",
            "----------------------------\n",
            "  0   | (apel, 100), (melon, 200), (pisang, 400)\n",
            "  1   | (kosong)\n",
            "  2   | (lemon, 300)\n"
          ]
        }
      ]
    }
  ]
}