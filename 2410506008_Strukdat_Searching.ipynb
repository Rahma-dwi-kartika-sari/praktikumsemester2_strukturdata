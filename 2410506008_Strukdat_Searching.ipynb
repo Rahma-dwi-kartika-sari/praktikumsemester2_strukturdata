{
  "nbformat": 4,
  "nbformat_minor": 0,
  "metadata": {
    "colab": {
      "provenance": []
    },
    "kernelspec": {
      "name": "python3",
      "display_name": "Python 3"
    },
    "language_info": {
      "name": "python"
    }
  },
  "cells": [
    {
      "cell_type": "code",
      "execution_count": 3,
      "metadata": {
        "colab": {
          "base_uri": "https://localhost:8080/"
        },
        "id": "4ord-Urm9P1w",
        "outputId": "72041c93-be68-4110-ce13-42c81a78acad"
      },
      "outputs": [
        {
          "output_type": "stream",
          "name": "stdout",
          "text": [
            "Masukkan 3 digit terakhir NPM Anda: 008\n",
            "Elemen ditemukan pada indeks 3\n"
          ]
        }
      ],
      "source": [
        "def Linear_search(arr, target):\n",
        "  for i in range (len(arr)):\n",
        "    if arr[i] == target:\n",
        "      return i\n",
        "def Linear_search(arr, target):\n",
        "  for i in range (len(arr)):\n",
        "    if arr[i] == target:\n",
        "      return i\n",
        "  return -1\n",
        "\n",
        "arr = [10, 24, 60, 8, 50]\n",
        "target = int(input(\"Masukkan 3 digit terakhir NPM Anda: \"))\n",
        "\n",
        "result = Linear_search(arr, target)\n",
        "\n",
        "if result != -1:\n",
        "  print(\"Elemen ditemukan pada indeks\", result)\n",
        "else:\n",
        "  print(\"Elemen tidak ditemukan\")\n",
        "result = Linear_search(arr, target)"
      ]
    },
    {
      "cell_type": "code",
      "source": [
        "def binary_search(arr, target):\n",
        "  low = 0\n",
        "  high = len(arr) - 1\n",
        "\n",
        "  while low <= high:\n",
        "    mid = (low + high) // 2\n",
        "    if arr[mid] == target:\n",
        "      return mid\n",
        "    elif arr[mid] < target:\n",
        "      low = mid + 1\n",
        "    else:\n",
        "      high = mid - 1\n",
        "  return -1\n",
        "\n",
        "arr = [1212, 1303, 1404, 1505, 1606, 1707]\n",
        "target = int(input(\"Masukkan tanggal lahir Anda (DDMM): \"))\n",
        "\n",
        "result = binary_search(arr, target)\n",
        "\n",
        "if result != -1:\n",
        "  print(\"Elemen ditemukan pada indeks\", result)\n",
        "else:\n",
        "  print(\"Elemen tidak ditemukan\")"
      ],
      "metadata": {
        "colab": {
          "base_uri": "https://localhost:8080/"
        },
        "id": "SjzYaLMpWbP7",
        "outputId": "a402308b-5d29-40c3-8753-5580c3cc9bb0"
      },
      "execution_count": 8,
      "outputs": [
        {
          "output_type": "stream",
          "name": "stdout",
          "text": [
            "Masukkan tanggal lahir Anda (DDMM): 1707\n",
            "Elemen ditemukan pada indeks 5\n"
          ]
        }
      ]
    },
    {
      "cell_type": "code",
      "source": [
        "import math\n",
        "\n",
        "def jump_search(arr, target):\n",
        "  n = len(arr)\n",
        "  step = int(math.sqrt(n))\n",
        "  prev = 0\n",
        "\n",
        "  while arr[int(min(step, n) - 1)] < target:\n",
        "    prev = step\n",
        "    step += int(math.sqrt(n))\n",
        "    if prev >= n:\n",
        "      return - 1\n",
        "\n",
        "  for i in range(prev, min(step, n), 1):\n",
        "    if arr[i][0] == target:\n",
        "      return i\n",
        "  return -1\n",
        "\n",
        "arr = [\"Asih\", \"Evelyn\", \"Kartika\", \"Nawang\", \"Rahma\", \"Salwa\"]\n",
        "target = input(\"Masukkan inisial nama Anda: \")\n",
        "\n",
        "result = jump_search(arr, target)\n",
        "\n",
        "if result != -1:\n",
        "  print(f\"Elemen ditemukan pada indeks {result}\")\n",
        "else:\n",
        "  print(\"Elemen tidak ditemukan\")"
      ],
      "metadata": {
        "colab": {
          "base_uri": "https://localhost:8080/"
        },
        "id": "uHx7Y8AHal2f",
        "outputId": "e866ec71-2727-4c4e-8ab7-3435b5b1b7ad"
      },
      "execution_count": 19,
      "outputs": [
        {
          "output_type": "stream",
          "name": "stdout",
          "text": [
            "Masukkan inisial nama Anda: R\n",
            "Elemen ditemukan pada indeks 4\n"
          ]
        }
      ]
    },
    {
      "cell_type": "code",
      "source": [],
      "metadata": {
        "id": "zql9dGmIgQdG"
      },
      "execution_count": null,
      "outputs": []
    }
  ]
}