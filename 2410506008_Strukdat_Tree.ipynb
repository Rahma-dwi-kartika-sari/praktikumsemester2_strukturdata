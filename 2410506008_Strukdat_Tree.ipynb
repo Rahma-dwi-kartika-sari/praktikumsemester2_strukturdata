{
  "nbformat": 4,
  "nbformat_minor": 0,
  "metadata": {
    "colab": {
      "provenance": []
    },
    "kernelspec": {
      "name": "python3",
      "display_name": "Python 3"
    },
    "language_info": {
      "name": "python"
    }
  },
  "cells": [
    {
      "cell_type": "code",
      "source": [
        "class Node:\n",
        "  def __init__(self, data):\n",
        "    self.data = data\n",
        "    self.left = None\n",
        "    self.right = None\n",
        "\n",
        "# Membuat tree secara manual\n",
        "root = Node(1)\n",
        "root.left = Node(2)\n",
        "root.right = Node(3)\n",
        "root.left.left = Node(4)\n",
        "root.left.right = Node(5)\n",
        "\n",
        "# Fungsi inorder tranversal\n",
        "def inorder(root):\n",
        "  if root:\n",
        "    inorder(root.left)\n",
        "    print(root.data)\n",
        "    inorder(root.right)\n",
        "\n",
        "print (\"Hasil inorder tranversal dari binary tree:\")\n",
        "inorder(root)"
      ],
      "metadata": {
        "colab": {
          "base_uri": "https://localhost:8080/"
        },
        "id": "LW2cCt8DsjCG",
        "outputId": "8f4b8471-57f5-4b67-dc1d-8d7d26e85cc9"
      },
      "execution_count": null,
      "outputs": [
        {
          "output_type": "stream",
          "name": "stdout",
          "text": [
            "Hasil inorder tranversal dari binary tree:\n",
            "4\n",
            "2\n",
            "5\n",
            "1\n",
            "3\n"
          ]
        }
      ]
    },
    {
      "cell_type": "code",
      "source": [
        "class Node:\n",
        "  def __init__(self, data):\n",
        "    self.data = data\n",
        "    self.left = None\n",
        "    self.right = None\n",
        "\n",
        "class BinarySearchTree:\n",
        "  def __init__(self):\n",
        "    self.root = None\n",
        "  def insert(self, root, data):\n",
        "    if root is None:\n",
        "      return Node(data)\n",
        "    if data < root.data:\n",
        "      root.left = self.insert(root.left, data)\n",
        "    else:\n",
        "      root.right = self.insert(root.right, data)\n",
        "    return root\n",
        "\n",
        "bst = BinarySearchTree()\n",
        "root = None\n",
        "data_list = [50, 30, 70, 20, 40, 60, 80]\n",
        "for value in data_list:\n",
        "  root = bst.insert(root, value)"
      ],
      "metadata": {
        "id": "6QkN1NcLuShq"
      },
      "execution_count": null,
      "outputs": []
    },
    {
      "cell_type": "code",
      "source": [
        "def inorder(node):\n",
        "  if node:\n",
        "    inorder(node.left)\n",
        "    print(node.data, end='')\n",
        "    inorder(node.right)\n",
        "\n",
        "def preorder(node):\n",
        "  if node:\n",
        "    print(node.data, end='')\n",
        "    preorder(node.left)\n",
        "    preorder(node.right)\n",
        "\n",
        "def postorder(node):\n",
        "  if node:\n",
        "    postorder(node.left)\n",
        "    postorder(node.right)\n",
        "    print(node.data, end='')\n",
        "\n",
        "print(\"Inorder Transversal:\")\n",
        "inorder(root')\n",
        "print(\"\\nPreorder Transversal:\")\n",
        "preorder(root)\n",
        "print(\"\\nPostorder Transversal:\")\n",
        "postorder(root)"
      ],
      "metadata": {
        "colab": {
          "base_uri": "https://localhost:8080/"
        },
        "id": "VF7KVqlAv_b6",
        "outputId": "33a39d8a-ecea-4958-9af0-342f294b53c7"
      },
      "execution_count": null,
      "outputs": [
        {
          "output_type": "stream",
          "name": "stdout",
          "text": [
            "Inorder Transversal:\n",
            "20304050607080\n",
            "Preorder Transversal:\n",
            "50302040706080\n",
            "Postorder Transversal:\n",
            "20403060807050"
          ]
        }
      ]
    },
    {
      "cell_type": "code",
      "source": [
        "def search(node, key):\n",
        "  if node is None or node.data == key:\n",
        "    return node\n",
        "  if key < node.data:\n",
        "    return search(node.left, key)\n",
        "  return search(node.right, key)\n",
        "\n",
        "# Uji pencarian\n",
        "key = 60\n",
        "result = search(root, key)\n",
        "if result:\n",
        "  print(f\"{key} ditemukan dalam tree.\")\n",
        "else:\n",
        "  print(f\"{key} tidak ditemukan\")\n",
        "\n",
        "key = 25\n",
        "result = search(root, key)\n",
        "if result:\n",
        "  print(f\"{key} ditemukan dalam tree.\")\n",
        "else:\n",
        "  print(f\"{key} tidak ditemukan\")"
      ],
      "metadata": {
        "colab": {
          "base_uri": "https://localhost:8080/"
        },
        "id": "c8mg-VOtxDlx",
        "outputId": "f0f3bbcc-5e24-4787-ed2e-8418b0891785"
      },
      "execution_count": null,
      "outputs": [
        {
          "output_type": "stream",
          "name": "stdout",
          "text": [
            "60 ditemukan dalam tree.\n",
            "25 tidak ditemukan\n"
          ]
        }
      ]
    }
  ]
}