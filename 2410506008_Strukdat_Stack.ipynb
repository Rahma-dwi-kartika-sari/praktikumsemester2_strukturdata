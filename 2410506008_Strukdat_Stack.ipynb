{
  "nbformat": 4,
  "nbformat_minor": 0,
  "metadata": {
    "colab": {
      "provenance": []
    },
    "kernelspec": {
      "name": "python3",
      "display_name": "Python 3"
    },
    "language_info": {
      "name": "python"
    }
  },
  "cells": [
    {
      "cell_type": "code",
      "source": [
        "#Operasi Push\n",
        "class Stack:\n",
        "    def __init__(self):\n",
        "        self.stack = []\n",
        "\n",
        "    def push(self, item):\n",
        "        self.stack.append(item)\n",
        "\n",
        "#Contoh penggunaan\n",
        "s = Stack()\n",
        "s.push(5)\n",
        "\n",
        "#Output: [5]"
      ],
      "metadata": {
        "id": "Fdd4cQhbOOWS"
      },
      "execution_count": null,
      "outputs": []
    },
    {
      "cell_type": "code",
      "source": [
        "#Operasi Pop\n",
        "class Stack:\n",
        "    def __init__(self):\n",
        "        self.stack = []\n",
        "\n",
        "    def push(self, item):\n",
        "        self.stack.append(item)\n",
        "\n",
        "    def pop(self):\n",
        "        if len(self.stack) == 0:\n",
        "            return \"Stack Kosong\"\n",
        "        return self.stack.pop()\n",
        "\n",
        "#Contoh penggunaan\n",
        "s = Stack()\n",
        "s.push(5)\n",
        "s.push(10)\n",
        "print(s.pop())\n",
        "print(s.stack)"
      ],
      "metadata": {
        "colab": {
          "base_uri": "https://localhost:8080/"
        },
        "id": "d5glX1BdOlyp",
        "outputId": "67fba477-3f85-47ea-e80b-b2475001381d"
      },
      "execution_count": null,
      "outputs": [
        {
          "output_type": "stream",
          "name": "stdout",
          "text": [
            "10\n",
            "[5]\n"
          ]
        }
      ]
    },
    {
      "cell_type": "code",
      "source": [
        "#Operasi peek()\n",
        "class Stack:\n",
        "    def __init__(self):\n",
        "        self.stack = []\n",
        "\n",
        "    def push(self, item):\n",
        "        # Added push method\n",
        "        self.stack.append(item)\n",
        "\n",
        "    def peek(self):\n",
        "        if len(self.stack) == 0:\n",
        "            return \"Stack Kosong\"\n",
        "        return self.stack[-1]\n",
        "\n",
        "#Contoh penggunaan\n",
        "s = Stack()\n",
        "s.push(5)\n",
        "s.push(10)\n",
        "print(s.peek())\n",
        "print(s.stack)"
      ],
      "metadata": {
        "colab": {
          "base_uri": "https://localhost:8080/"
        },
        "id": "zQz1LSl6Q-IM",
        "outputId": "b5ab3201-cb2d-4134-d34c-0418667e1969"
      },
      "execution_count": null,
      "outputs": [
        {
          "output_type": "stream",
          "name": "stdout",
          "text": [
            "10\n",
            "[5, 10]\n"
          ]
        }
      ]
    },
    {
      "cell_type": "code",
      "source": [
        "#Operasi isEmpty()\n",
        "class Stack:\n",
        "    def __init__(self):\n",
        "        self.stack = []\n",
        "\n",
        "    def push(self, item):\n",
        "        self.stack.append(item)\n",
        "\n",
        "    def isEmpty(self):\n",
        "        return len(self.stack) == 0\n",
        "\n",
        "#Contoh penggunaan\n",
        "s = Stack()\n",
        "print(s.isEmpty())\n",
        "s.push(5)\n",
        "print(s.isEmpty())"
      ],
      "metadata": {
        "colab": {
          "base_uri": "https://localhost:8080/"
        },
        "id": "jGAT0-SXRJjn",
        "outputId": "7ed39b89-5128-4dbd-8008-4a451ec82b19"
      },
      "execution_count": null,
      "outputs": [
        {
          "output_type": "stream",
          "name": "stdout",
          "text": [
            "True\n",
            "False\n"
          ]
        }
      ]
    },
    {
      "cell_type": "markdown",
      "source": [
        "# **LANGKAH PRAKTIKUM**"
      ],
      "metadata": {
        "id": "E6l64c6KRd2L"
      }
    },
    {
      "cell_type": "code",
      "source": [
        "#Undo dengan pop()\n",
        "class TextEditor:\n",
        "    def __init__(self):\n",
        "        self.history = []\n",
        "\n",
        "    def write(self, text):\n",
        "      self.history.append(text)\n",
        "\n",
        "    def undo(self):\n",
        "      if self.history:\n",
        "        return f\"Undo: Menghapus '{self.history.pop()}'\"\n",
        "      return \"Tidak ada yang bisa di-undo\"\n",
        "\n",
        "#Contoh Penggunaan\n",
        "editor = TextEditor()\n",
        "editor.write(\"Halo, ini teks pertama.\")\n",
        "editor.write(\"Ini teks kedua.\")\n",
        "editor.write(\"Ini teks ketiga\")\n",
        "\n",
        "print(editor.undo())\n",
        "print(editor.undo())"
      ],
      "metadata": {
        "colab": {
          "base_uri": "https://localhost:8080/"
        },
        "id": "32FaBMCSRcH6",
        "outputId": "01cd7934-d400-4e3c-83d4-60a15692a8b5"
      },
      "execution_count": null,
      "outputs": [
        {
          "output_type": "stream",
          "name": "stdout",
          "text": [
            "Undo: Menghapus 'Ini teks ketiga'\n",
            "Undo: Menghapus 'Ini teks kedua.'\n"
          ]
        }
      ]
    },
    {
      "cell_type": "markdown",
      "source": [
        "**Latihan 1**"
      ],
      "metadata": {
        "id": "SN8bdYyfS1Cy"
      }
    },
    {
      "cell_type": "code",
      "source": [
        "class PerintahKalkulator:\n",
        "    def __init__(self):\n",
        "        self.history = []\n",
        "\n",
        "    def write(self, text):\n",
        "      self.history.append(text)\n",
        "\n",
        "    def undo(self):\n",
        "      if self.history:\n",
        "        return f\"Undo: '{self.history.pop()}'\"\n",
        "      return \"Tidak ada yang bisa di-undo\"\n",
        "\n",
        "editor = PerintahKalkulator()\n",
        "editor.write(\"0+8 = 8\")\n",
        "editor.write(\"0-8 = 8\")\n",
        "editor.write(\"0*8 = 0\")\n",
        "\n",
        "print(editor.undo())\n",
        "print(editor.undo())\n",
        "print(editor.undo())"
      ],
      "metadata": {
        "colab": {
          "base_uri": "https://localhost:8080/"
        },
        "id": "axK7nWvAX64w",
        "outputId": "c0f09eb4-9512-4fe6-c6c9-15049e4f30f9"
      },
      "execution_count": null,
      "outputs": [
        {
          "output_type": "stream",
          "name": "stdout",
          "text": [
            "Undo: '0*8 = 0'\n",
            "Undo: '0-8 = 8'\n",
            "Undo: '0+8 = 8'\n"
          ]
        }
      ]
    },
    {
      "cell_type": "code",
      "source": [
        "#Navigasi History dengan push()\n",
        "from collections import deque\n",
        "\n",
        "class BrowserHistory:\n",
        "  def __init__(self):\n",
        "    self.history = deque()\n",
        "\n",
        "  def push(self, url):\n",
        "    self.history.append(url)\n",
        "    print(f\"Mengunjungi {url}\")\n",
        "\n",
        "  def back(self):\n",
        "    if self.history: # Fixed this line to be boolean check instead of function call\n",
        "      print(f\"Kembali ke {self.history.pop()}\")\n",
        "    else:\n",
        "      print(\"Tidak ada riwayat  \")\n",
        "\n",
        "#Contoh Penggunaan\n",
        "browser = BrowserHistory()\n",
        "browser.push(\"Google.com\") # Changed visit to push\n",
        "browser.push(\"Medium.com\") # Changed visit to push\n",
        "browser.push(\"github.com\") # Changed visit to push\n",
        "browser.back()\n",
        "browser.back()\n",
        "browser.back()"
      ],
      "metadata": {
        "colab": {
          "base_uri": "https://localhost:8080/"
        },
        "id": "kYiEvO_GTWXW",
        "outputId": "df7a1b54-c2a1-493e-e770-f3883bc3823b"
      },
      "execution_count": null,
      "outputs": [
        {
          "output_type": "stream",
          "name": "stdout",
          "text": [
            "Mengunjungi Google.com\n",
            "Mengunjungi Medium.com\n",
            "Mengunjungi github.com\n",
            "Kembali ke github.com\n",
            "Kembali ke Medium.com\n",
            "Kembali ke Google.com\n"
          ]
        }
      ]
    },
    {
      "cell_type": "markdown",
      "source": [
        "**Latihan 2**"
      ],
      "metadata": {
        "id": "GadDNekrZNBV"
      }
    },
    {
      "cell_type": "code",
      "source": [
        "from collections import deque\n",
        "\n",
        "class AplikasiMobileHistory:\n",
        "    def __init__(self):\n",
        "        self.history = deque()\n",
        "\n",
        "    def push(self, app):\n",
        "        self.history.append(app)\n",
        "        print(f\"Mengunjungi {app}\")\n",
        "\n",
        "    def back(self):\n",
        "        if self.history:\n",
        "            last_app = self.history.pop()  # Menghapus aplikasi terakhir\n",
        "            if self.history:\n",
        "                print(f\"Kembali ke {self.history[-1]}\")\n",
        "            else:\n",
        "                print(f\"Keluar dari {last_app}, tidak ada riwayat tersisa.\")\n",
        "        else:\n",
        "            print(\"Tidak ada riwayat untuk kembali.\")\n",
        "\n",
        "app = AplikasiMobileHistory()\n",
        "app.push(\"D\")\n",
        "app.push(\"0\")\n",
        "app.push(\"8\")\n",
        "app.back()\n",
        "app.back()\n",
        "app.back()"
      ],
      "metadata": {
        "colab": {
          "base_uri": "https://localhost:8080/"
        },
        "id": "2ZinBv0oYmJ2",
        "outputId": "f9b60489-9142-4f6a-cc59-4ff384b754a6"
      },
      "execution_count": null,
      "outputs": [
        {
          "output_type": "stream",
          "name": "stdout",
          "text": [
            "Mengunjungi D\n",
            "Mengunjungi 0\n",
            "Mengunjungi 8\n",
            "Kembali ke 0\n",
            "Kembali ke D\n",
            "Keluar dari D, tidak ada riwayat tersisa.\n"
          ]
        }
      ]
    },
    {
      "cell_type": "code",
      "source": [
        "#Sistem Pencadangan File peek()\n",
        "from queue import LifoQueue\n",
        "\n",
        "class BackupSystem:\n",
        "    def __init__(self):\n",
        "        self.backups = LifoQueue()\n",
        "\n",
        "    def backup(self, version):\n",
        "      self.backups.put(version)\n",
        "\n",
        "    def latels_backup(self):\n",
        "      if not self.backups.empty():\n",
        "        return f\"Versi terbaru: {self.backups.queue[-1]}\"\n",
        "      return \"Tidak ada cadangan!\"\n",
        "\n",
        "#Contoh penggunaan\n",
        "backup_system = BackupSystem()\n",
        "backup_system.backup(\"Backup_1\")\n",
        "backup_system.backup(\"Backup_2\")\n",
        "backup_system.backup(\"Backup_3\")\n",
        "\n",
        "print(backup_system.latels_backup())"
      ],
      "metadata": {
        "colab": {
          "base_uri": "https://localhost:8080/"
        },
        "id": "5v8Jl7xCZrNh",
        "outputId": "dffe3e14-e828-40e5-954f-1f83222ef72f"
      },
      "execution_count": null,
      "outputs": [
        {
          "output_type": "stream",
          "name": "stdout",
          "text": [
            "Versi terbaru: Backup_3\n"
          ]
        }
      ]
    },
    {
      "cell_type": "markdown",
      "source": [
        "**Latihan 3**"
      ],
      "metadata": {
        "id": "pgXRLZSKcwJg"
      }
    },
    {
      "cell_type": "code",
      "source": [
        "#Sistem Penyimpanan Draft Email\n",
        "from queue import LifoQueue\n",
        "\n",
        "class DraftEmail:\n",
        "    def __init__(self):\n",
        "        self.draft = LifoQueue()\n",
        "\n",
        "    def backup(self, version):\n",
        "        self.draft.put(version)\n",
        "        print(f\"Draft '{version}' tersimpan.\")\n",
        "\n",
        "    def first_draft(self):\n",
        "        if not self.draft.empty():\n",
        "            return f\"Draft Terakhir: {self.draft.get()}\"\n",
        "        return \"Tidak ada draft email!\"\n",
        "\n",
        "# Contoh penggunaan\n",
        "email = DraftEmail()\n",
        "email.backup(\"Ra8@gmail.com\")\n",
        "email.backup(\"R08@gmail.com\")\n",
        "email.backup(\"Ra08@gmail.com\")\n",
        "\n",
        "print(email.first_draft())\n",
        "print(email.first_draft())\n",
        "print(email.first_draft())\n",
        "print(email.first_draft())"
      ],
      "metadata": {
        "colab": {
          "base_uri": "https://localhost:8080/"
        },
        "id": "KlPIXLcCavMq",
        "outputId": "e57989a3-54fb-4474-f263-31d762c08304"
      },
      "execution_count": null,
      "outputs": [
        {
          "output_type": "stream",
          "name": "stdout",
          "text": [
            "Draft 'Ra8@gmail.com' tersimpan.\n",
            "Draft 'R08@gmail.com' tersimpan.\n",
            "Draft 'Ra08@gmail.com' tersimpan.\n",
            "Draft Terakhir: Ra08@gmail.com\n",
            "Draft Terakhir: R08@gmail.com\n",
            "Draft Terakhir: Ra8@gmail.com\n",
            "Tidak ada draft email!\n"
          ]
        }
      ]
    },
    {
      "cell_type": "code",
      "source": [
        "#Antrian Pelanggan isEmpty()\n",
        "class CustomerServiceQueue:\n",
        "    def __init__(self):\n",
        "        self.tickets = []\n",
        "\n",
        "    def add_tickets(self, ticket):\n",
        "        self.tickets.append(ticket)\n",
        "\n",
        "    def process_ticket(self):\n",
        "      if not self.is_empty():\n",
        "        return f\"Memproses tiket: {self.tickets.pop(0)}\"\n",
        "      return \"Tidak ada tiket yang harus diproses.\"\n",
        "\n",
        "    def is_empty(self):\n",
        "        return len(self.tickets) == 0\n",
        "\n",
        "#Contoh penggunaan\n",
        "service = CustomerServiceQueue()\n",
        "service.add_tickets(\"Tiket 1\")\n",
        "service.add_tickets(\"Tiket 2\")\n",
        "\n",
        "print(service.process_ticket())\n",
        "print(service.is_empty())"
      ],
      "metadata": {
        "colab": {
          "base_uri": "https://localhost:8080/"
        },
        "id": "xJbhIRYOcPS0",
        "outputId": "40fc36e9-26aa-4f02-a71c-ed52a5b3f36c"
      },
      "execution_count": null,
      "outputs": [
        {
          "output_type": "stream",
          "name": "stdout",
          "text": [
            "Memproses tiket: Tiket 1\n",
            "False\n"
          ]
        }
      ]
    },
    {
      "cell_type": "markdown",
      "source": [
        "**Latihan 4**"
      ],
      "metadata": {
        "id": "aVdAKtPPisLi"
      }
    },
    {
      "cell_type": "code",
      "source": [
        "from queue import LifoQueue\n",
        "\n",
        "class AntreanTiketBioskop:\n",
        "    def __init__(self):\n",
        "        self.tickets = LifoQueue()\n",
        "\n",
        "    def buy_tickets(self, ticket):\n",
        "        self.tickets.put(ticket)\n",
        "        print(f\"Tiket Film DE12'{ticket}' telah ditambahkan ke antrean.\")\n",
        "\n",
        "    def process_ticket(self):\n",
        "      if not self.tickets.empty():\n",
        "        ticket = self.tickets.get()\n",
        "        return f\"Memproses tiket: {ticket}\"\n",
        "      return \"Tidak ada tiket yang harus diproses.\"\n",
        "\n",
        "    def is_empty(self):\n",
        "        return self.tickets.empty()\n",
        "\n",
        "# Contoh Penggunaan\n",
        "service = AntreanTiketBioskop()\n",
        "service.buy_tickets(\"Tiket 1\")\n",
        "service.buy_tickets(\"Tiket 2\")\n",
        "service.buy_tickets(\"Tiket 3\")\n",
        "\n",
        "print(service.process_ticket())\n",
        "print(service.process_ticket())\n",
        "print(service.process_ticket())\n",
        "print(service.process_ticket())\n",
        "print(service.is_empty())"
      ],
      "metadata": {
        "colab": {
          "base_uri": "https://localhost:8080/"
        },
        "id": "EJwVkdVFiYPm",
        "outputId": "97a2f3b8-5c0f-43c0-e75a-5b61f5547e22"
      },
      "execution_count": null,
      "outputs": [
        {
          "output_type": "stream",
          "name": "stdout",
          "text": [
            "Tiket Film DE12'Tiket 1' telah ditambahkan ke antrean.\n",
            "Tiket Film DE12'Tiket 2' telah ditambahkan ke antrean.\n",
            "Tiket Film DE12'Tiket 3' telah ditambahkan ke antrean.\n",
            "Memproses tiket: Tiket 3\n",
            "Memproses tiket: Tiket 2\n",
            "Memproses tiket: Tiket 1\n",
            "Tidak ada tiket yang harus diproses.\n",
            "True\n"
          ]
        }
      ]
    }
  ]
}