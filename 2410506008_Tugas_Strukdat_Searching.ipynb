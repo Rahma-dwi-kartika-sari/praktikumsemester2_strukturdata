{
  "nbformat": 4,
  "nbformat_minor": 0,
  "metadata": {
    "colab": {
      "provenance": []
    },
    "kernelspec": {
      "name": "python3",
      "display_name": "Python 3"
    },
    "language_info": {
      "name": "python"
    }
  },
  "cells": [
    {
      "cell_type": "code",
      "execution_count": 6,
      "metadata": {
        "colab": {
          "base_uri": "https://localhost:8080/"
        },
        "id": "WApJKFq05dth",
        "outputId": "92786220-4f34-4c74-e22c-8715520dc7f7"
      },
      "outputs": [
        {
          "output_type": "stream",
          "name": "stdout",
          "text": [
            "+-----------------------+-----------------------+\n",
            "| Algoritma Pencarian   |  Jumlah Perbandingan  |\n",
            "+=======================+=======================+\n",
            "| Linear Search         |          51           |\n",
            "+-----------------------+-----------------------+\n",
            "| Binary Search         |           6           |\n",
            "+-----------------------+-----------------------+\n",
            "| Jump Search           |           6           |\n",
            "+-----------------------+-----------------------+\n"
          ]
        }
      ],
      "source": [
        "import random\n",
        "import math\n",
        "from tabulate import tabulate\n",
        "\n",
        "def generate_data():\n",
        "    data = random.sample(range(1, 1001), 100)\n",
        "    return sorted(data)\n",
        "\n",
        "def linear_search(arr, target):\n",
        "    comparisons = 0\n",
        "    for i, value in enumerate(arr):\n",
        "        comparisons += 1\n",
        "        if value == target:\n",
        "            return i, comparisons\n",
        "    return -1, comparisons\n",
        "\n",
        "def binary_search(arr, target):\n",
        "    left, right = 0, len(arr) - 1\n",
        "    comparisons = 0\n",
        "\n",
        "    while left <= right:\n",
        "        mid = (left + right) // 2\n",
        "        comparisons += 1\n",
        "\n",
        "        if arr[mid] == target:\n",
        "            return mid, comparisons\n",
        "        elif arr[mid] < target:\n",
        "            left = mid + 1\n",
        "        else:\n",
        "            right = mid - 1\n",
        "\n",
        "    return -1, comparisons\n",
        "\n",
        "def jump_search(arr, target):\n",
        "    n = len(arr)\n",
        "    step = int(math.sqrt(n))\n",
        "    prev = 0\n",
        "    comparisons = 0\n",
        "\n",
        "    while arr[min(step, n) - 1] < target:\n",
        "        comparisons += 1\n",
        "        prev = step\n",
        "        step += int(math.sqrt(n))\n",
        "        if prev >= n:\n",
        "            return -1, comparisons\n",
        "\n",
        "    for i in range(prev, min(step, n)):\n",
        "        comparisons += 1\n",
        "        if arr[i] == target:\n",
        "            return i, comparisons\n",
        "\n",
        "    return -1, comparisons\n",
        "\n",
        "data = generate_data()\n",
        "target = data[len(data) // 2]\n",
        "\n",
        "linear_result = linear_search(data, target)\n",
        "binary_result = binary_search(data, target)\n",
        "jump_result = jump_search(data, target)\n",
        "\n",
        "results = [\n",
        "    [\"Linear Search\", linear_result[1]],\n",
        "    [\"Binary Search\", binary_result[1]],\n",
        "    [\"Jump Search\", jump_result[1]]\n",
        "]\n",
        "\n",
        "print(tabulate(results, headers=[\"Algoritma Pencarian\", \"Jumlah Perbandingan\"], tablefmt=\"grid\", colalign=(\"left\", \"center\")))"
      ]
    }
  ]
}