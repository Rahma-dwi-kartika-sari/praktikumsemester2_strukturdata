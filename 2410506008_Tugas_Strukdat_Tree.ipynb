{
  "nbformat": 4,
  "nbformat_minor": 0,
  "metadata": {
    "colab": {
      "provenance": []
    },
    "kernelspec": {
      "name": "python3",
      "display_name": "Python 3"
    },
    "language_info": {
      "name": "python"
    }
  },
  "cells": [
    {
      "cell_type": "markdown",
      "source": [
        "**TUGAS 1**"
      ],
      "metadata": {
        "id": "CJhAL6XF5XqU"
      }
    },
    {
      "cell_type": "code",
      "execution_count": null,
      "metadata": {
        "colab": {
          "base_uri": "https://localhost:8080/"
        },
        "id": "M3JcVhfG5L5-",
        "outputId": "9d3bc5a9-6ded-4c78-a2de-59c787cc2867"
      },
      "outputs": [
        {
          "output_type": "stream",
          "name": "stdout",
          "text": [
            "Struktur Tree berdasarkan identitas saya\n",
            "12 8 14 8 12 "
          ]
        }
      ],
      "source": [
        "class Node:\n",
        "    def __init__(self, data):\n",
        "        self.data = data\n",
        "        self.left = None\n",
        "        self.right = None\n",
        "\n",
        "def inorder(root):\n",
        "    if root:\n",
        "        inorder(root.left)\n",
        "        print(root.data, end=' ')\n",
        "        inorder(root.right)\n",
        "\n",
        "root = Node(14)\n",
        "root.left = Node(8)\n",
        "root.right = Node(8)\n",
        "root.left.left = Node (12)\n",
        "root.right.right = Node(12)\n",
        "\n",
        "print(\"Struktur Tree berdasarkan identitas saya\")\n",
        "inorder(root)"
      ]
    },
    {
      "cell_type": "markdown",
      "source": [
        "**TUGAS 2**"
      ],
      "metadata": {
        "id": "ca9cOZA25aWc"
      }
    },
    {
      "cell_type": "code",
      "source": [
        "class BSTNode:\n",
        "    def __init__(self, data):\n",
        "        self.data = data\n",
        "        self.left = None\n",
        "        self.right = None\n",
        "\n",
        "def insert(root, key):\n",
        "    if root is None:\n",
        "        return BSTNode(key)\n",
        "    if key < root.data:\n",
        "        root.left = insert(root.left, key)\n",
        "    else:\n",
        "        root.right = insert(root.right, key)\n",
        "    return root\n",
        "\n",
        "def inorder(node):\n",
        "    if node:\n",
        "        inorder(node.left)\n",
        "        print(node.data, end=' ')\n",
        "        inorder(node.right)\n",
        "\n",
        "def preorder(node):\n",
        "    if node:\n",
        "        print(node.data, end=' ')\n",
        "        preorder(node.left)\n",
        "        preorder(node.right)\n",
        "\n",
        "def postorder(node):\n",
        "    if node:\n",
        "        postorder(node.left)\n",
        "        postorder(node.right)\n",
        "        print(node.data, end=' ')\n",
        "\n",
        "data_list = [8, 12, 12, 82, 65, 3]\n",
        "\n",
        "bst_root = None\n",
        "for item in data_list:\n",
        "    bst_root = insert(bst_root, item)\n",
        "\n",
        "print(\"Inorder Traversal:\")\n",
        "inorder(bst_root)\n",
        "print(\"\\nPreorder Traversal:\")\n",
        "preorder(bst_root)\n",
        "print(\"\\nPostorder Traversal:\")\n",
        "postorder(bst_root)"
      ],
      "metadata": {
        "colab": {
          "base_uri": "https://localhost:8080/"
        },
        "id": "2iZHMhE85QyY",
        "outputId": "9e40d8d6-a1bb-48d3-aa63-997e8c391998"
      },
      "execution_count": null,
      "outputs": [
        {
          "output_type": "stream",
          "name": "stdout",
          "text": [
            "Inorder Traversal:\n",
            "3 8 12 12 65 82 \n",
            "Preorder Traversal:\n",
            "8 3 12 12 82 65 \n",
            "Postorder Traversal:\n",
            "3 65 82 12 12 8 "
          ]
        }
      ]
    }
  ]
}