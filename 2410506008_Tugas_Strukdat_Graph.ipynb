{
  "nbformat": 4,
  "nbformat_minor": 0,
  "metadata": {
    "colab": {
      "provenance": []
    },
    "kernelspec": {
      "name": "python3",
      "display_name": "Python 3"
    },
    "language_info": {
      "name": "python"
    }
  },
  "cells": [
    {
      "cell_type": "code",
      "execution_count": 3,
      "metadata": {
        "colab": {
          "base_uri": "https://localhost:8080/"
        },
        "id": "U8FvwIwNutCL",
        "outputId": "c5a8b5c1-00f4-4aa7-8942-11f9f06edb7e"
      },
      "outputs": [
        {
          "output_type": "stream",
          "name": "stdout",
          "text": [
            "A : ['B', 'C', 'D']\n",
            "B : ['A', 'D', 'E']\n",
            "C : ['A', 'E', 'D']\n",
            "D : ['B', 'A', 'C']\n",
            "E : ['B', 'C']\n"
          ]
        }
      ],
      "source": [
        "graph = {\n",
        "    'A': ['B', 'C', 'D'],\n",
        "    'B': ['A', 'D', 'E'],\n",
        "    'C': ['A', 'E', 'D'],\n",
        "    'D': ['B', 'A', 'C'],\n",
        "    'E': ['B', 'C']\n",
        "}\n",
        "\n",
        "def print_graph(graf) :\n",
        "  for node in graf:\n",
        "    print(f\"{node} : {graf[node]}\")\n",
        "\n",
        "print_graph(graph)"
      ]
    },
    {
      "cell_type": "code",
      "source": [
        "from collections import deque\n",
        "\n",
        "def bfs(graph, start):\n",
        "    visited = set()\n",
        "    queue = deque([start])\n",
        "\n",
        "    while queue:\n",
        "        node = queue.popleft()\n",
        "        if node not in visited:\n",
        "            print(node, end=' ')\n",
        "            visited.add(node)\n",
        "            queue.extend(neighbor for neighbor in graph[node] if neighbor not in visited)\n",
        "\n",
        "def dfs(graph, start, visited=None):\n",
        "    if visited is None:\n",
        "        visited = set()\n",
        "    if start not in visited:\n",
        "        print(start, end=' ')\n",
        "        visited.add(start)\n",
        "        for neighbor in graph[start]:\n",
        "            dfs(graph, neighbor, visited)\n",
        "\n",
        "bfs(graph, 'A')"
      ],
      "metadata": {
        "colab": {
          "base_uri": "https://localhost:8080/"
        },
        "id": "sdXjlwGlzM43",
        "outputId": "06d3ff72-18e8-4540-bb0e-8d1f5fa21b0a"
      },
      "execution_count": 4,
      "outputs": [
        {
          "output_type": "stream",
          "name": "stdout",
          "text": [
            "A B C D E "
          ]
        }
      ]
    },
    {
      "cell_type": "code",
      "source": [
        "def bfs_list(graph, start):\n",
        "    visited = set()\n",
        "    queue = deque([start])\n",
        "    result = []\n",
        "\n",
        "    while queue:\n",
        "        node = queue.popleft()\n",
        "        if node not in visited:\n",
        "            visited.add(node)\n",
        "            result.append(node)\n",
        "            queue.extend(neighbor for neighbor in graph[node] if neighbor not in visited)\n",
        "    return result\n",
        "\n",
        "print(\"BFS List:\", bfs_list(graph, 'A'))"
      ],
      "metadata": {
        "colab": {
          "base_uri": "https://localhost:8080/"
        },
        "id": "vSOWgq8ozpzP",
        "outputId": "4ec5edaf-6697-4d8a-8aab-c80e783d030f"
      },
      "execution_count": 5,
      "outputs": [
        {
          "output_type": "stream",
          "name": "stdout",
          "text": [
            "BFS List: ['A', 'B', 'C', 'D', 'E']\n"
          ]
        }
      ]
    },
    {
      "cell_type": "code",
      "source": [
        "def find_path(graph, start, end, path=None):\n",
        "    if path is None:\n",
        "        path = []\n",
        "    path = path + [start]\n",
        "\n",
        "    if start == end:\n",
        "        return path\n",
        "\n",
        "    for neighbor in graph[start]:\n",
        "        if neighbor not in path:\n",
        "            new_path = find_path(graph, neighbor, end, path)\n",
        "            if new_path:\n",
        "                return new_path\n",
        "    return None\n",
        "\n",
        "print(\"Path A ke E:\", find_path(graph, 'A', 'E'))"
      ],
      "metadata": {
        "colab": {
          "base_uri": "https://localhost:8080/"
        },
        "id": "GXtaCMyJzuLc",
        "outputId": "f9b7ded3-d59d-4a97-a614-171d2b19e7c3"
      },
      "execution_count": 6,
      "outputs": [
        {
          "output_type": "stream",
          "name": "stdout",
          "text": [
            "Path A ke E: ['A', 'B', 'D', 'C', 'E']\n"
          ]
        }
      ]
    },
    {
      "cell_type": "code",
      "source": [
        "def is_connected(graph):\n",
        "    visited = set()\n",
        "\n",
        "    def dfs(node):\n",
        "        if node not in visited:\n",
        "            visited.add(node)\n",
        "            for neighbor in graph[node]:\n",
        "                dfs(neighbor)\n",
        "\n",
        "    # Simpul pertama sebagai titik awal\n",
        "    start_node = next(iter(graph))\n",
        "    dfs(start_node)\n",
        "\n",
        "    return len(visited) == len(graph)\n",
        "\n",
        "print(\"Apakah graf terhubung?:\", is_connected(graph))"
      ],
      "metadata": {
        "colab": {
          "base_uri": "https://localhost:8080/"
        },
        "id": "SjLckUeOzw6U",
        "outputId": "10536db4-e376-4c92-93ef-50564b341f62"
      },
      "execution_count": 7,
      "outputs": [
        {
          "output_type": "stream",
          "name": "stdout",
          "text": [
            "Apakah graf terhubung?: True\n"
          ]
        }
      ]
    }
  ]
}